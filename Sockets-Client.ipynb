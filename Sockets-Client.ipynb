{
 "cells": [
  {
   "cell_type": "code",
   "execution_count": 1,
   "metadata": {},
   "outputs": [],
   "source": [
    "import socket\n",
    "import hashlib\n",
    "import sys\n",
    "import time"
   ]
  },
  {
   "cell_type": "code",
   "execution_count": 33,
   "metadata": {},
   "outputs": [
    {
     "name": "stdout",
     "output_type": "stream",
     "text": [
      "Procurar por hash: 9fb005ca3b35446439122addce1cc72bbbd63eca\n",
      "Tamanho do banco de hashs recebido: 37\n"
     ]
    }
   ],
   "source": [
    "host = '127.0.0.1'\n",
    "port = 5000\n",
    "tcp = socket.socket(socket.AF_INET, socket.SOCK_STREAM)\n",
    "dest = (host, port)\n",
    "tcp.connect(dest)\n",
    "\n",
    "hash_1 = tcp.recv(1024)\n",
    "print(\"Procurar por hash:\", hash_1.decode())\n",
    "\n",
    "time.sleep(2)\n",
    "hash_2 = tcp.recv(10000)\n",
    "\n",
    "list_hash_client = str(hash_2.decode()).split(';')\n",
    "print(\"Tamanho do banco de hashs recebido:\", len(list_hash_client[:-1]))\n",
    "\n",
    "val = True;\n",
    "while val:\n",
    "    \n",
    "    for i in range(len(list_hash_client[:-1])):\n",
    "        if(hash_1.decode() == list_hash_client[i]):\n",
    "            string = \"\\nAchei, caraio!!!\\n\"\n",
    "            tcp.send(string.encode())\n",
    "            val = False\n",
    "        if((i+1) == len(list_hash_client[:-1])):\n",
    "            string = \"\\nPo, ta aqui nao.\\n\"\n",
    "            tcp.send(string.encode())\n",
    "            val = False\n",
    "    \n",
    "#tcp.close()"
   ]
  },
  {
   "cell_type": "code",
   "execution_count": null,
   "metadata": {},
   "outputs": [],
   "source": []
  }
 ],
 "metadata": {
  "kernelspec": {
   "display_name": "Python 3",
   "language": "python",
   "name": "python3"
  },
  "language_info": {
   "codemirror_mode": {
    "name": "ipython",
    "version": 3
   },
   "file_extension": ".py",
   "mimetype": "text/x-python",
   "name": "python",
   "nbconvert_exporter": "python",
   "pygments_lexer": "ipython3",
   "version": "3.6.5"
  }
 },
 "nbformat": 4,
 "nbformat_minor": 2
}
